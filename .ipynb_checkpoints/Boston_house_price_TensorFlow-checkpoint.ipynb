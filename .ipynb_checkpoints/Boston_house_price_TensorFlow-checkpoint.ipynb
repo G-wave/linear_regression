{
 "cells": [
  {
   "cell_type": "code",
   "execution_count": 27,
   "metadata": {
    "collapsed": true
   },
   "outputs": [],
   "source": [
    "import tensorflow as tf\n",
    "import numpy as np\n",
    "import sklearn\n",
    "import pandas as pd\n",
    "from sklearn.datasets import load_boston\n"
   ]
  },
  {
   "cell_type": "code",
   "execution_count": 102,
   "metadata": {
    "collapsed": false
   },
   "outputs": [],
   "source": [
    "boston = load_boston()\n",
    "bos = boston.data\n",
    "\n",
    "alpha = 0.0001\n",
    "num_epoch = 2000"
   ]
  },
  {
   "cell_type": "code",
   "execution_count": 96,
   "metadata": {
    "collapsed": false
   },
   "outputs": [],
   "source": [
    "X = tf.placeholder(tf.float32)\n",
    "Y = tf.placeholder(tf.float32)\n",
    "w = tf.Variable(np.random.randn(),name='Weight')\n",
    "b = tf.Variable(np.random.randn(),name='Bias')"
   ]
  },
  {
   "cell_type": "code",
   "execution_count": 97,
   "metadata": {
    "collapsed": true
   },
   "outputs": [],
   "source": [
    "# Linear Model\n",
    "def model(X,w,b):\n",
    "    return tf.add(tf.multiply(X,w),b)"
   ]
  },
  {
   "cell_type": "code",
   "execution_count": 98,
   "metadata": {
    "collapsed": false
   },
   "outputs": [],
   "source": [
    "# Predictions and cost function\n",
    "y_hat = model(X,w,b)\n",
    "cost = tf.reduce_mean(tf.square(Y-y_hat))"
   ]
  },
  {
   "cell_type": "code",
   "execution_count": 99,
   "metadata": {
    "collapsed": true
   },
   "outputs": [],
   "source": [
    "# Training step\n",
    "train_op = tf.train.GradientDescentOptimizer(alpha).minimize(cost)"
   ]
  },
  {
   "cell_type": "code",
   "execution_count": 103,
   "metadata": {
    "collapsed": false
   },
   "outputs": [],
   "source": [
    "sess = tf.Session()\n",
    "init = tf.global_variables_initializer()\n",
    "sess.run(init)"
   ]
  },
  {
   "cell_type": "code",
   "execution_count": 104,
   "metadata": {
    "collapsed": false
   },
   "outputs": [
    {
     "name": "stdout",
     "output_type": "stream",
     "text": [
      "epoch= 0 cost= 48.3264 weight= 3.5074 bias= -2.2979\n",
      "epoch= 100 cost= 45.7415 weight= 5.45357 bias= -14.2218\n",
      "epoch= 200 cost= 44.7614 weight= 6.20582 bias= -18.8307\n",
      "epoch= 300 cost= 44.3854 weight= 6.49661 bias= -20.6123\n",
      "epoch= 400 cost= 44.2403 weight= 6.60901 bias= -21.301\n",
      "epoch= 500 cost= 44.1844 weight= 6.65249 bias= -21.5674\n",
      "epoch= 600 cost= 44.1628 weight= 6.66924 bias= -21.67\n",
      "epoch= 700 cost= 44.1545 weight= 6.67575 bias= -21.7099\n",
      "epoch= 800 cost= 44.1513 weight= 6.67818 bias= -21.7248\n",
      "epoch= 900 cost= 44.1501 weight= 6.67908 bias= -21.7303\n",
      "epoch= 1000 cost= 44.1498 weight= 6.67941 bias= -21.7323\n",
      "epoch= 1100 cost= 44.1496 weight= 6.6795 bias= -21.7329\n",
      "epoch= 1200 cost= 44.1496 weight= 6.6795 bias= -21.7329\n",
      "epoch= 1300 cost= 44.1496 weight= 6.6795 bias= -21.7329\n",
      "epoch= 1400 cost= 44.1496 weight= 6.6795 bias= -21.7329\n",
      "epoch= 1500 cost= 44.1496 weight= 6.6795 bias= -21.7329\n",
      "epoch= 1600 cost= 44.1496 weight= 6.6795 bias= -21.7329\n",
      "epoch= 1700 cost= 44.1496 weight= 6.6795 bias= -21.7329\n",
      "epoch= 1800 cost= 44.1496 weight= 6.6795 bias= -21.7329\n",
      "epoch= 1900 cost= 44.1496 weight= 6.6795 bias= -21.7329\n"
     ]
    }
   ],
   "source": [
    "for epoch in range(num_epoch):\n",
    "    for (x,y) in zip(bos[:,5],boston.target):\n",
    "        sess.run(train_op, feed_dict = {X:x, Y:y})\n",
    "    if epoch%100 == 0:\n",
    "        c = sess.run(cost, feed_dict = {X:x, Y:y})\n",
    "        print('epoch=',epoch,'cost=',c,'weight=',sess.run(w),'bias=',sess.run(b))"
   ]
  },
  {
   "cell_type": "code",
   "execution_count": null,
   "metadata": {
    "collapsed": false
   },
   "outputs": [],
   "source": []
  },
  {
   "cell_type": "code",
   "execution_count": null,
   "metadata": {
    "collapsed": true
   },
   "outputs": [],
   "source": []
  }
 ],
 "metadata": {
  "anaconda-cloud": {},
  "kernelspec": {
   "display_name": "Python [default]",
   "language": "python",
   "name": "python3"
  },
  "language_info": {
   "codemirror_mode": {
    "name": "ipython",
    "version": 3
   },
   "file_extension": ".py",
   "mimetype": "text/x-python",
   "name": "python",
   "nbconvert_exporter": "python",
   "pygments_lexer": "ipython3",
   "version": "3.5.2"
  }
 },
 "nbformat": 4,
 "nbformat_minor": 1
}
